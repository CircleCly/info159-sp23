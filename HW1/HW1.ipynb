{
  "cells": [
    {
      "cell_type": "markdown",
      "metadata": {
        "id": "Wd4N2-FUZMYg"
      },
      "source": [
        "<a href=\"https://colab.research.google.com/github/dbamman/nlp23/blob/main/HW1/HW1.ipynb\" target=\"_parent\"><img src=\"https://colab.research.google.com/assets/colab-badge.svg\" alt=\"Open In Colab\"/></a>"
      ]
    },
    {
      "cell_type": "markdown",
      "metadata": {
        "id": "ZH4fCBKLZMYi"
      },
      "source": [
        "# Homework 1: Featurized Models for Sentiment Analysis"
      ]
    },
    {
      "cell_type": "markdown",
      "metadata": {
        "id": "I1Ut2jsRZMYi"
      },
      "source": [
        "For this assignment, we provide an implementation of a simple binary classifier that will predict the sentiment of a movie review based on a group of original features -- provided by you! \n",
        "\n",
        "Before diving into any code, please read through the associated [PDF](https://github.com/dbamman/nlp23/blob/main/HW1/HW1.pdf) for an overview of the assignment and specific instructions on how to submit."
      ]
    },
    {
      "cell_type": "code",
      "execution_count": null,
      "metadata": {
        "id": "TQTT9x-6d2JI"
      },
      "outputs": [],
      "source": [
        "import sys, argparse\n",
        "from scipy import sparse\n",
        "from sklearn import linear_model\n",
        "from collections import Counter\n",
        "import numpy as np\n",
        "import re\n",
        "from collections import Counter, defaultdict\n",
        "import operator\n",
        "import nltk\n",
        "import csv\n",
        "from sklearn.metrics import plot_confusion_matrix\n",
        "import matplotlib.pyplot as plt\n",
        "import pandas as pd\n",
        "from pandas import option_context"
      ]
    },
    {
      "cell_type": "code",
      "execution_count": null,
      "metadata": {
        "colab": {
          "base_uri": "https://localhost:8080/"
        },
        "id": "e4KuVSCSqlUX",
        "outputId": "07a32d2a-301f-4214-ecc0-fe06d1283cb1"
      },
      "outputs": [
        {
          "output_type": "stream",
          "name": "stdout",
          "text": [
            "/usr/lib/python3.8/runpy.py:127: RuntimeWarning: 'nltk.downloader' found in sys.modules after import of package 'nltk', but prior to execution of 'nltk.downloader'; this may result in unpredictable behaviour\n",
            "  warn(RuntimeWarning(msg))\n",
            "[nltk_data] Downloading package punkt to /root/nltk_data...\n",
            "[nltk_data]   Unzipping tokenizers/punkt.zip.\n"
          ]
        }
      ],
      "source": [
        "!python -m nltk.downloader punkt"
      ]
    },
    {
      "cell_type": "markdown",
      "metadata": {
        "id": "PxEJ2de-ZMYj"
      },
      "source": [
        "### Intro: Gather Data + Create Classifier"
      ]
    },
    {
      "cell_type": "markdown",
      "metadata": {
        "id": "3fQAexPKZMYj"
      },
      "source": [
        "#### Gather Data"
      ]
    },
    {
      "cell_type": "markdown",
      "metadata": {
        "id": "1Hk07KCgwoZy"
      },
      "source": [
        "Let's download the data we'll use for training and development, and also the data we'll make predictions with."
      ]
    },
    {
      "cell_type": "code",
      "execution_count": null,
      "metadata": {
        "colab": {
          "base_uri": "https://localhost:8080/"
        },
        "id": "hn0XtfFeqP2P",
        "outputId": "f0353e46-6691-40a1-fec7-ce9e36064567"
      },
      "outputs": [
        {
          "output_type": "stream",
          "name": "stdout",
          "text": [
            "--2023-01-30 02:14:33--  https://raw.githubusercontent.com/dbamman/nlp23/main/HW1/train.txt\n",
            "Resolving raw.githubusercontent.com (raw.githubusercontent.com)... 185.199.110.133, 185.199.111.133, 185.199.109.133, ...\n",
            "Connecting to raw.githubusercontent.com (raw.githubusercontent.com)|185.199.110.133|:443... connected.\n",
            "HTTP request sent, awaiting response... 200 OK\n",
            "Length: 1322055 (1.3M) [text/plain]\n",
            "Saving to: ‘train.txt’\n",
            "\n",
            "train.txt           100%[===================>]   1.26M  --.-KB/s    in 0.05s   \n",
            "\n",
            "2023-01-30 02:14:33 (23.8 MB/s) - ‘train.txt’ saved [1322055/1322055]\n",
            "\n",
            "--2023-01-30 02:14:33--  https://raw.githubusercontent.com/dbamman/nlp23/main/HW1/dev.txt\n",
            "Resolving raw.githubusercontent.com (raw.githubusercontent.com)... 185.199.108.133, 185.199.109.133, 185.199.110.133, ...\n",
            "Connecting to raw.githubusercontent.com (raw.githubusercontent.com)|185.199.108.133|:443... connected.\n",
            "HTTP request sent, awaiting response... 200 OK\n",
            "Length: 1309909 (1.2M) [text/plain]\n",
            "Saving to: ‘dev.txt’\n",
            "\n",
            "dev.txt             100%[===================>]   1.25M  --.-KB/s    in 0.05s   \n",
            "\n",
            "2023-01-30 02:14:34 (24.2 MB/s) - ‘dev.txt’ saved [1309909/1309909]\n",
            "\n",
            "--2023-01-30 02:14:34--  https://raw.githubusercontent.com/dbamman/nlp23/main/HW1/test.txt\n",
            "Resolving raw.githubusercontent.com (raw.githubusercontent.com)... 185.199.108.133, 185.199.111.133, 185.199.109.133, ...\n",
            "Connecting to raw.githubusercontent.com (raw.githubusercontent.com)|185.199.108.133|:443... connected.\n",
            "HTTP request sent, awaiting response... 200 OK\n",
            "Length: 6573426 (6.3M) [text/plain]\n",
            "Saving to: ‘test.txt’\n",
            "\n",
            "test.txt            100%[===================>]   6.27M  --.-KB/s    in 0.08s   \n",
            "\n",
            "2023-01-30 02:14:34 (79.5 MB/s) - ‘test.txt’ saved [6573426/6573426]\n",
            "\n"
          ]
        }
      ],
      "source": [
        "# Get data\n",
        "!wget https://raw.githubusercontent.com/dbamman/nlp23/main/HW1/train.txt\n",
        "!wget https://raw.githubusercontent.com/dbamman/nlp23/main/HW1/dev.txt\n",
        "!wget https://raw.githubusercontent.com/dbamman/nlp23/main/HW1/test.txt"
      ]
    },
    {
      "cell_type": "code",
      "execution_count": 35,
      "metadata": {
        "id": "jq2yq0xpRCUb"
      },
      "outputs": [],
      "source": [
        "trainingFile = \"train.txt\"\n",
        "evaluationFile = \"dev.txt\"\n",
        "testFile = \"test.txt\""
      ]
    },
    {
      "cell_type": "markdown",
      "metadata": {
        "id": "KwtE65l6ZMYk"
      },
      "source": [
        "#### Define Classifier class"
      ]
    },
    {
      "cell_type": "markdown",
      "metadata": {
        "id": "c5amVCDEZMYk"
      },
      "source": [
        "Next, we've created a Binary Classifier. This class will let us learn the traits associated with positive and negatively classed movie reviews in order to make predictions on our test set."
      ]
    },
    {
      "cell_type": "code",
      "execution_count": null,
      "metadata": {
        "id": "CGiM8qQiJOBU"
      },
      "outputs": [],
      "source": [
        "######################################################################\n",
        "## Do not edit this block of code.\n",
        "## This defines the classification class which\n",
        "## loads the data and sets up the model.\n",
        "######################################################################\n",
        "\n",
        "class Classifier:\n",
        "\n",
        "    def __init__(self, feature_method, L2_regularization_strength=1.0, min_feature_count=1):\n",
        "        self.feature_vocab = {}\n",
        "        self.feature_method = feature_method\n",
        "        self.log_reg = None\n",
        "        self.L2_regularization_strength=L2_regularization_strength\n",
        "        self.min_feature_count=min_feature_count\n",
        "\n",
        "        self.trainX, self.trainY, self.trainOrig = self.process(trainingFile, training=True)\n",
        "        self.devX, self.devY, self.devOrig = self.process(evaluationFile, training=False)\n",
        "        self.testX, _, self.testOrig = self.process(testFile, training=False)\n",
        "\n",
        "    # Read data from file\n",
        "    def load_data(self, filename):\n",
        "        data = []\n",
        "        with open(filename, encoding=\"utf8\") as file:\n",
        "            for line in file:\n",
        "                cols = line.split(\"\\t\")\n",
        "                idd = cols[0]\n",
        "                label = cols[1]\n",
        "                text = cols[2]\n",
        "\n",
        "                data.append((idd, label, text))\n",
        "                \n",
        "        return data\n",
        "\n",
        "    # Featurize entire dataset\n",
        "    def featurize(self, data):\n",
        "        featurized_data = []\n",
        "        for idd, label, text in data:\n",
        "            feats = self.feature_method(text)\n",
        "            featurized_data.append((label, feats))\n",
        "        return featurized_data\n",
        "\n",
        "    # Read dataset and returned featurized representation as sparse matrix + label array\n",
        "    def process(self, dataFile, training = False):\n",
        "        original_data = self.load_data(dataFile)\n",
        "        data = self.featurize(original_data)\n",
        "\n",
        "        if training:\n",
        "            fid = 0\n",
        "            feature_doc_count = Counter()\n",
        "            for label, feats in data:\n",
        "                for feat in feats:\n",
        "                    feature_doc_count[feat]+= 1\n",
        "\n",
        "            for feat in feature_doc_count:\n",
        "                if feature_doc_count[feat] >= self.min_feature_count:\n",
        "                    self.feature_vocab[feat] = fid\n",
        "                    fid += 1\n",
        "\n",
        "        F = len(self.feature_vocab)\n",
        "        D = len(data)\n",
        "        X = sparse.dok_matrix((D, F))\n",
        "        Y = [None]*D\n",
        "        for idx, (label, feats) in enumerate(data):\n",
        "            for feat in feats:\n",
        "                if feat in self.feature_vocab:\n",
        "                    X[idx, self.feature_vocab[feat]] = feats[feat]\n",
        "            Y[idx] = label\n",
        "\n",
        "        return X, Y, original_data\n",
        "\n",
        "    def load_test(self, dataFile):\n",
        "        data = self.load_data(dataFile)\n",
        "        data = self.featurize(data)\n",
        "\n",
        "        F = len(self.feature_vocab)\n",
        "        D = len(data)\n",
        "        X = sparse.dok_matrix((D, F))\n",
        "        Y = [None]*D\n",
        "        for idx, (data_id, feats) in enumerate(data):\n",
        "            for feat in feats:\n",
        "                if feat in self.feature_vocab:\n",
        "                    X[idx, self.feature_vocab[feat]] = feats[feat]\n",
        "            Y[idx] = data_id\n",
        "\n",
        "        return X, Y\n",
        "\n",
        "    # Train model and evaluate on held-out data\n",
        "    def evaluate(self):\n",
        "        (D,F) = self.trainX.shape\n",
        "        self.log_reg = linear_model.LogisticRegression(C = self.L2_regularization_strength, max_iter=1000)\n",
        "        self.log_reg.fit(self.trainX, self.trainY)\n",
        "        training_accuracy = self.log_reg.score(self.trainX, self.trainY)\n",
        "        development_accuracy = self.log_reg.score(self.devX, self.devY)\n",
        "        print(\"Method: %s, Features: %s, Train accuracy: %.3f, Dev accuracy: %.3f\" % (self.feature_method.__name__, F, training_accuracy, development_accuracy))\n",
        "\n",
        "\n",
        "    # Predict labels for new data\n",
        "    def predict(self):\n",
        "        predX = self.log_reg.predict(self.testX)\n",
        "\n",
        "        with open(\"%s_%s\" % (self.feature_method.__name__, \"predictions.csv\"), \"w\", encoding=\"utf8\") as out:\n",
        "            writer=csv.writer(out)\n",
        "            writer.writerow([\"Id\", \"Expected\"])\n",
        "            for idx, data_id in enumerate(self.testX):\n",
        "                writer.writerow([self.testOrig[idx][0], predX[idx]])\n",
        "        out.close()\n",
        "\n",
        "\n",
        "    def printWeights(self, n=10):\n",
        "\n",
        "        reverse_vocab=[None]*len(self.log_reg.coef_[0])\n",
        "        for k in self.feature_vocab:\n",
        "            reverse_vocab[self.feature_vocab[k]]=k\n",
        "\n",
        "        # binary\n",
        "        if len(self.log_reg.classes_) == 2:\n",
        "              weights=self.log_reg.coef_[0]\n",
        "\n",
        "              cat=self.log_reg.classes_[1]\n",
        "              for feature, weight in list(reversed(sorted(zip(reverse_vocab, weights), key = operator.itemgetter(1))))[:n]:\n",
        "                  print(\"%s\\t%.3f\\t%s\" % (cat, weight, feature))\n",
        "              print()\n",
        "\n",
        "              cat=self.log_reg.classes_[0]\n",
        "              for feature, weight in list(sorted(zip(reverse_vocab, weights), key = operator.itemgetter(1)))[:n]:\n",
        "                  print(\"%s\\t%.3f\\t%s\" % (cat, weight, feature))\n",
        "              print()\n",
        "\n",
        "        # multiclass\n",
        "        else:\n",
        "          for i, cat in enumerate(self.log_reg.classes_):\n",
        "\n",
        "              weights=self.log_reg.coef_[i]\n",
        "\n",
        "              for feature, weight in list(reversed(sorted(zip(reverse_vocab, weights), key = operator.itemgetter(1))))[:n]:\n",
        "                  print(\"%s\\t%.3f\\t%s\" % (cat, weight, feature))\n",
        "              print()\n",
        "\n",
        "            "
      ]
    },
    {
      "cell_type": "markdown",
      "metadata": {
        "id": "JTWAf9trZMYl"
      },
      "source": [
        "#### Simple Classifier example"
      ]
    },
    {
      "cell_type": "markdown",
      "metadata": {
        "id": "nDmfkG782kgo"
      },
      "source": [
        "Let's create an initial classifier based on a really simple feature using a dictionary: \n",
        "\n",
        "* if the abstract contains the words \"love\" or \"like\", the `contains_positive_word` feature will fire, and \n",
        "* if it contains either \"hate\" or \"dislike\", the `contains_negative_word` will fire.  \n",
        "\n",
        "Note how we use `nltk.word_tokenize` to tokenize the text into its discrete words (the documentation for which can be found [here](https://www.nltk.org/api/nltk.tokenize.html))."
      ]
    },
    {
      "cell_type": "code",
      "execution_count": null,
      "metadata": {
        "id": "xCq1bL3e2jUj"
      },
      "outputs": [],
      "source": [
        "def simple_featurize(text):\n",
        "    feats = {}\n",
        "    words = nltk.word_tokenize(text)\n",
        "\n",
        "    for word in words:\n",
        "        word=word.lower()\n",
        "        if word == \"love\" or word == \"like\":\n",
        "            feats[\"contains_positive_word\"] = 1\n",
        "        if word == \"hate\" or word == \"dislike\":\n",
        "            feats[\"contains_negative_word\"] = 1\n",
        "            \n",
        "    return feats\n"
      ]
    },
    {
      "cell_type": "markdown",
      "metadata": {
        "id": "P3PQdN9r3Ujz"
      },
      "source": [
        "Now let's see how that feature performs on the development data. \n",
        "\n",
        "Note the `L2_regularization_strength` parameter specifies the strength of the L2 regularizer (values closer to 0 = stronger regularization), and `min_feature_count` specifies how many data points need to contain a feature for it to be passed into the model as a feature. Both are ways to prevent the model from overfitting and achieve higher performance."
      ]
    },
    {
      "cell_type": "code",
      "execution_count": null,
      "metadata": {
        "colab": {
          "base_uri": "https://localhost:8080/"
        },
        "id": "Jnqjxd6fKPiP",
        "outputId": "947b56e6-869e-4765-8337-7cf3e84ff493"
      },
      "outputs": [
        {
          "output_type": "stream",
          "name": "stdout",
          "text": [
            "Method: simple_featurize, Features: 2, Train accuracy: 0.509, Dev accuracy: 0.500\n"
          ]
        }
      ],
      "source": [
        "simple_classifier = Classifier(simple_featurize, L2_regularization_strength=1.0, min_feature_count=1)\n",
        "simple_classifier.evaluate()"
      ]
    },
    {
      "cell_type": "markdown",
      "metadata": {
        "id": "hO4XQzU3PdeU"
      },
      "source": [
        "So we've created a classifier. But is its accuracy score any good?  Let's calculate the accuracy of a \"majority classifier\" to provide some context. This determines the most-represented (majority) class in the training data, and then predicts every test point to be this class."
      ]
    },
    {
      "cell_type": "code",
      "execution_count": null,
      "metadata": {
        "colab": {
          "base_uri": "https://localhost:8080/"
        },
        "id": "8t--LfOjPj7T",
        "outputId": "d729ddd0-b771-4b40-ecfb-160523a8d6a1"
      },
      "outputs": [
        {
          "output_type": "stream",
          "name": "stdout",
          "text": [
            "Majority class: pos\tDev accuracy: 0.500\n"
          ]
        }
      ],
      "source": [
        "def majority_class(trainY, devY):\n",
        "    labelCounts=Counter()\n",
        "    for label in trainY:\n",
        "        labelCounts[label]+=1\n",
        "    majority_class=labelCounts.most_common(1)[0][0]\n",
        "    \n",
        "    correct=0.\n",
        "    for label in devY:\n",
        "        if label == majority_class:\n",
        "            correct+=1\n",
        "            \n",
        "    print(\"Majority class: %s\\tDev accuracy: %.3f\" % (majority_class, correct/len(devY)))\n",
        "majority_class(simple_classifier.trainY, simple_classifier.devY)"
      ]
    },
    {
      "cell_type": "markdown",
      "metadata": {
        "id": "GD_8YV3mZMYm"
      },
      "source": [
        "The feature we created in `simple_featurize`, evidently, doesn't have a whole lot of legs. In the next portion of the homework, you'll be designing a few features of your own in the hopes of achieving the highest accuracy possible."
      ]
    },
    {
      "cell_type": "markdown",
      "metadata": {
        "id": "wIEkYOWO5ClC"
      },
      "source": [
        "## Deliverable 1\n",
        "\n",
        "Your job in this homework is to implement a binary bag-of-words model (i.e., one that assigns a feature value of 1 to each word type that is present in the text); and to brainstorm **3 additional** distinct classes of features, justify why they might help improve the performance *over a bag of words* for this task, implement them in code, and then assess their independent performance on the development data.\n",
        "\n",
        "To show your work: describe your new features and report their performance in the table below; implement the features in the specified `feature1`, `feature2`, and `feature3` functions, and execute each respective classifier to show its performance.  \n",
        "\n",
        "|Feature|Why should it work? (50 words each)|Dev set performance|\n",
        "|---|---|---|\n",
        "|Bag of words|Bag of words takes into account of whether any word has appeared in a document. <br/> This means that the review is more likely to be positive. It is rather comprehensive and considers all words in a document. <br/> For instance, if we see more positive words occuring and are missing most negative words, |0.766|\n",
        "|Feature 1 : Bigram Count|The bigram feature is able to capture not only words themselves but also neighboring words. <br/> This allows more information about the context to be represented in the feature vectors, thus potentially improving performance.|0.705|\n",
        "|Feature 2 : Number of self-selected words|I hand-picked some words that may indicate positive and negative emotions. <br/> This is supposed to perform better than Bag of Words because <br/> I encoded my domain knowledge (which words express positive emotions and negative emotions) into the features. <br/> Also, by reducing the number of features, overfitting could be mitigated.|0.593|\n",
        "|Feature 3 : AFINN-111 lexicon|I encoded the count of words of different emotion scores as a feature. <br/> AFINN is a widely used sentiment analysis dataset and is relatively large. <br/> It is more \"specialized\" towards sentiment analysis.|0.719|\n",
        "\n",
        "Note that it is not required for your features to actually perform well, but your justification for why it *should* perform better than a bag of words should be defensible.  The most creative features (defined as features that few other students use and that are reasonably well-performing) will receive extra credit for this assignment. Consider the type of data you are working with: what do you look for when writing/reading a movie review?"
      ]
    },
    {
      "cell_type": "markdown",
      "metadata": {
        "id": "PiYBm7thZMYm"
      },
      "source": [
        "### Implement Bag-of-Words"
      ]
    },
    {
      "cell_type": "code",
      "execution_count": 90,
      "metadata": {
        "id": "vVl1zAREekC3"
      },
      "outputs": [],
      "source": [
        "def bag_of_words(text):\n",
        "    # Here the `feats` dict should contain the features -- the key should be the feature name, \n",
        "    # and the value is the feature value.  See `simple_featurize` for an example.\n",
        "    \n",
        "    # BEGIN SOLUTION\n",
        "    feats = {}\n",
        "\n",
        "    for token in nltk.word_tokenize(text):\n",
        "        feats[token] = 1\n",
        "    \n",
        "    return feats\n",
        "    # END SOLUTION"
      ]
    },
    {
      "cell_type": "code",
      "execution_count": 92,
      "metadata": {
        "colab": {
          "base_uri": "https://localhost:8080/"
        },
        "id": "_3AJ5qMBeqmL",
        "outputId": "9edcdff4-2cf4-413b-9d39-e35e0a40a72f"
      },
      "outputs": [
        {
          "output_type": "stream",
          "name": "stdout",
          "text": [
            "Method: bag_of_words, Features: 1074, Train accuracy: 1.000, Dev accuracy: 0.766\n"
          ]
        }
      ],
      "source": [
        "######################################################################\n",
        "## Do not edit this block of code, except for the L2_regularization_strength and min_feature_count parameters\n",
        "######################################################################\n",
        "\n",
        "bow_classifier = Classifier(bag_of_words, L2_regularization_strength=1.0, min_feature_count=20)\n",
        "bow_classifier.evaluate()"
      ]
    },
    {
      "cell_type": "markdown",
      "metadata": {
        "id": "iq-mE27eZMYm"
      },
      "source": [
        "### Implement Original Features"
      ]
    },
    {
      "cell_type": "code",
      "execution_count": 93,
      "metadata": {
        "id": "ocPMYhIt4BX0"
      },
      "outputs": [],
      "source": [
        "def feature1(text):\n",
        "    # Here the `feats` dict should contain the features -- the key should be the feature name, \n",
        "    # and the value is the feature value.  See `simple_featurize` for an example.\n",
        "    \n",
        "    feats = {}\n",
        "\n",
        "    tokens = nltk.bigrams(nltk.word_tokenize(text))\n",
        "    for bigram in tokens:\n",
        "        if bigram in feats:\n",
        "            feats[bigram] += 1\n",
        "        else:\n",
        "            feats[bigram] = 1\n",
        "               \n",
        "    return feats"
      ]
    },
    {
      "cell_type": "code",
      "execution_count": 94,
      "metadata": {
        "id": "-MAwRwbQ7lVw",
        "outputId": "92ff3d6d-c6d8-4acc-ee2d-73a9d5609da8",
        "colab": {
          "base_uri": "https://localhost:8080/"
        }
      },
      "outputs": [
        {
          "output_type": "stream",
          "name": "stdout",
          "text": [
            "Method: feature1, Features: 1001, Train accuracy: 0.994, Dev accuracy: 0.705\n"
          ]
        }
      ],
      "source": [
        "######################################################################\n",
        "## Do not edit this block of code, except for the L2_regularization_strength and min_feature_count parameters\n",
        "######################################################################\n",
        "\n",
        "classifier1 = Classifier(feature1, L2_regularization_strength=1.0, min_feature_count=20)\n",
        "classifier1.evaluate()"
      ]
    },
    {
      "cell_type": "code",
      "execution_count": 102,
      "metadata": {
        "id": "LNlQyjEB4Bwt"
      },
      "outputs": [],
      "source": [
        "def feature2(text):\n",
        "    # Here the `feats` dict should contain the features -- the key should be the feature name, \n",
        "    # and the value is the feature value.  See `simple_featurize` for an example.\n",
        "    \n",
        "    feats = {\"positive\" : 0, \"negative\" : 0}\n",
        "    pos_words = [\"amazing\", \"interesting\", \"intriguing\", \"fascinating\", \"love\"]\n",
        "    neg_words = [\"boring\", \"bland\", \"waste\", \"poor\", \"hate\", \"dislike\"]\n",
        "    for token in nltk.word_tokenize(text):\n",
        "        if token in pos_words:\n",
        "            feats[\"positive\"] += 1\n",
        "        if token in neg_words:\n",
        "            feats[\"negative\"] += 1\n",
        "            \n",
        "    return feats"
      ]
    },
    {
      "cell_type": "code",
      "execution_count": 103,
      "metadata": {
        "id": "JgpuykF67oWZ",
        "colab": {
          "base_uri": "https://localhost:8080/"
        },
        "outputId": "0181b6cf-aa4e-45ff-c558-d6ca426cceb7"
      },
      "outputs": [
        {
          "output_type": "stream",
          "name": "stdout",
          "text": [
            "Method: feature2, Features: 2, Train accuracy: 0.618, Dev accuracy: 0.593\n"
          ]
        }
      ],
      "source": [
        "######################################################################\n",
        "## Do not edit this block of code, except for the L2_regularization_strength and min_feature_count parameters\n",
        "######################################################################\n",
        "\n",
        "classifier2 = Classifier(feature2, L2_regularization_strength=1.0, min_feature_count=20)\n",
        "classifier2.evaluate()"
      ]
    },
    {
      "cell_type": "code",
      "source": [
        "!wget https://raw.githubusercontent.com/CircleCly/info159-sp23/main/HW1/AFINN-111.txt"
      ],
      "metadata": {
        "colab": {
          "base_uri": "https://localhost:8080/"
        },
        "id": "uRNkBLDrDR51",
        "outputId": "ef45b685-cd16-4e49-e227-38a9b6383193"
      },
      "execution_count": 54,
      "outputs": [
        {
          "output_type": "stream",
          "name": "stdout",
          "text": [
            "--2023-01-30 05:01:45--  https://raw.githubusercontent.com/CircleCly/info159-sp23/main/HW1/AFINN-111.txt\n",
            "Resolving raw.githubusercontent.com (raw.githubusercontent.com)... 185.199.108.133, 185.199.109.133, 185.199.110.133, ...\n",
            "Connecting to raw.githubusercontent.com (raw.githubusercontent.com)|185.199.108.133|:443... connected.\n",
            "HTTP request sent, awaiting response... 200 OK\n",
            "Length: 28093 (27K) [text/plain]\n",
            "Saving to: ‘AFINN-111.txt’\n",
            "\n",
            "\rAFINN-111.txt         0%[                    ]       0  --.-KB/s               \rAFINN-111.txt       100%[===================>]  27.43K  --.-KB/s    in 0.001s  \n",
            "\n",
            "2023-01-30 05:01:45 (19.7 MB/s) - ‘AFINN-111.txt’ saved [28093/28093]\n",
            "\n"
          ]
        }
      ]
    },
    {
      "cell_type": "code",
      "source": [
        "afinn = pd.read_csv(\"AFINN-111.txt\", delimiter = '\\t', header = None).to_numpy()\n",
        "afinn_dict = {k : v for k, v in afinn}"
      ],
      "metadata": {
        "id": "r52DyvjMDZYr"
      },
      "execution_count": 104,
      "outputs": []
    },
    {
      "cell_type": "code",
      "execution_count": 105,
      "metadata": {
        "id": "FmJKucgn4CEg"
      },
      "outputs": [],
      "source": [
        "def feature3(text):\n",
        "    # Here the `feats` dict should contain the features -- the key should be the feature name, \n",
        "    # and the value is the feature value.  See `simple_featurize` for an example.\n",
        "    \n",
        "    feats = {}\n",
        "    for word in nltk.word_tokenize(text):\n",
        "        score = (afinn_dict.get(word) or 0)\n",
        "        feats[score] = (feats.get(score) or 0) + 1\n",
        "            \n",
        "    return feats"
      ]
    },
    {
      "cell_type": "code",
      "execution_count": 106,
      "metadata": {
        "id": "g_f--utb7q4l",
        "colab": {
          "base_uri": "https://localhost:8080/"
        },
        "outputId": "3f4863ec-491d-4e11-8a6a-27ff13c62998"
      },
      "outputs": [
        {
          "output_type": "stream",
          "name": "stdout",
          "text": [
            "Method: feature3, Features: 10, Train accuracy: 0.730, Dev accuracy: 0.719\n"
          ]
        }
      ],
      "source": [
        "######################################################################\n",
        "## Do not edit this block of code, except for the L2_regularization_strength and min_feature_count parameters\n",
        "######################################################################\n",
        "\n",
        "classifier3 = Classifier(feature3, L2_regularization_strength=1.0, min_feature_count=20)\n",
        "classifier3.evaluate()"
      ]
    },
    {
      "cell_type": "markdown",
      "metadata": {
        "id": "Dg2J1BLgatMP"
      },
      "source": [
        "## Deliverable 2\n",
        "\n",
        "The two cells in \"Combine your features\" will generate a file named `combiner_function_predictions.csv`.\n",
        "\n",
        "Download this file (using e.g. the file manager on the left panel in Colab) and submit this to GradeScope along with your notebook; the 5 students with the highest performance (revealed after the submission deadline) will receive extra credit for this assignment.\n",
        "\n",
        "Please do not change the auto-generated filename!"
      ]
    },
    {
      "cell_type": "markdown",
      "metadata": {
        "id": "MYiNqfXwZMYn"
      },
      "source": [
        "### Combine your features"
      ]
    },
    {
      "cell_type": "markdown",
      "metadata": {
        "id": "XEpK5LyMgv5c"
      },
      "source": [
        "Next, let's combine any or all the features you have developed into one big model and make predictions on the test data. There is no exact number/threshold we're looking for, accuracy-wise, but the combiner function should *generally* have a higher accuracy than BoW on its own (assuming your features are adding additional information beyond what BoW is adding). \n",
        "\n",
        "You don't need to edit the following cell, unless you want to change which features are handed off to the \"combined\" model."
      ]
    },
    {
      "cell_type": "code",
      "execution_count": 107,
      "metadata": {
        "id": "jxKmEqI5JY71"
      },
      "outputs": [],
      "source": [
        "def combiner_function(text):\n",
        "\n",
        "    # Here the `all_feats` dict should contain the features -- the key should be the feature name, \n",
        "    # and the value is the feature value.  See `simple_featurize` for an example.\n",
        "    # at the moment, all 4 of: bag of words and your 3 original features are handed off to the combined model\n",
        "    # update the values within [bag_of_words, feature1, feature2, feature3] to change this.\n",
        "    \n",
        "    all_feats={}\n",
        "    for feature in [bag_of_words, feature1, feature2, feature3]:\n",
        "        all_feats.update(feature(text))\n",
        "    return all_feats"
      ]
    },
    {
      "cell_type": "code",
      "execution_count": 108,
      "metadata": {
        "id": "D-tRUFTIdAqT",
        "colab": {
          "base_uri": "https://localhost:8080/"
        },
        "outputId": "7fd9f7fe-963a-47d6-8f40-720fdc796ab8"
      },
      "outputs": [
        {
          "output_type": "stream",
          "name": "stdout",
          "text": [
            "Method: combiner_function, Features: 2086, Train accuracy: 1.000, Dev accuracy: 0.767\n"
          ]
        }
      ],
      "source": [
        "######################################################################\n",
        "## Do not edit this block of code, except for the L2_regularization_strength and min_feature_count parameters\n",
        "######################################################################\n",
        "\n",
        "big_classifier = Classifier(combiner_function, L2_regularization_strength=1.0, min_feature_count=20)\n",
        "big_classifier.evaluate()\n",
        "\n",
        "#generate .csv file with prediction output on test data\n",
        "big_classifier.predict()"
      ]
    },
    {
      "cell_type": "markdown",
      "metadata": {
        "id": "fID1XivsZMYn"
      },
      "source": [
        "## Further Exploration: Interrogating classifiers\n",
        "\n",
        "Note: No deliverables are in this section; it's optional. Treat this portion as a useful tool for further understanding the features you worked on and how they affter the classifier."
      ]
    },
    {
      "cell_type": "markdown",
      "metadata": {
        "id": "7lgyoJm09pqe"
      },
      "source": [
        "Below you will find several ways in which you can interrogate your model to get ideas on ways to improve its performance.  "
      ]
    },
    {
      "cell_type": "markdown",
      "metadata": {
        "id": "v3_bvp14ZMYn"
      },
      "source": [
        "1. First, let's look at the confusion matrix of its predictions (where we can compare the true labels with the predicted labels). What kinds of mistakes is it making? (While this is mainly helpful in the context of multiclass classification, we can still see if there's a bias toward predicting a specific class in the binary setting as well). "
      ]
    },
    {
      "cell_type": "code",
      "execution_count": 109,
      "metadata": {
        "id": "7ulxd1TosIMV",
        "colab": {
          "base_uri": "https://localhost:8080/",
          "height": 629
        },
        "outputId": "dbc6de07-8b4b-45bb-efaf-4e52ecbeeded"
      },
      "outputs": [
        {
          "output_type": "stream",
          "name": "stderr",
          "text": [
            "/usr/local/lib/python3.8/dist-packages/sklearn/utils/deprecation.py:87: FutureWarning: Function plot_confusion_matrix is deprecated; Function `plot_confusion_matrix` is deprecated in 1.0 and will be removed in 1.2. Use one of the class methods: ConfusionMatrixDisplay.from_predictions or ConfusionMatrixDisplay.from_estimator.\n",
            "  warnings.warn(msg, category=FutureWarning)\n"
          ]
        },
        {
          "output_type": "display_data",
          "data": {
            "text/plain": [
              "<Figure size 720x720 with 2 Axes>"
            ],
            "image/png": "[encoded data removed]"
          },
          "metadata": {
            "needs_background": "light"
          }
        }
      ],
      "source": [
        "def print_confusion(classifier):\n",
        "    fig, ax = plt.subplots(figsize=(10,10))\n",
        "    plot_confusion_matrix(classifier.log_reg, classifier.devX, classifier.devY, ax=ax, xticks_rotation=\"vertical\", values_format=\"d\")\n",
        "    plt.show()\n",
        "\n",
        "print_confusion(big_classifier)"
      ]
    },
    {
      "cell_type": "markdown",
      "metadata": {
        "id": "zPhH4flIuEbx"
      },
      "source": [
        "2. Next, let's look at the features that are most important for each of the classes (ranked by how strong their corresponding coefficient is). Do the features you are defining help in the ways you think they should?  Do sets of successful features suggests others, or complementary features that may provide a different view on the data?"
      ]
    },
    {
      "cell_type": "code",
      "execution_count": 110,
      "metadata": {
        "id": "IAyGuXIi9pqe",
        "colab": {
          "base_uri": "https://localhost:8080/"
        },
        "outputId": "4aa2dad2-f36e-435a-b8bd-e9211dccf8a0"
      },
      "outputs": [
        {
          "output_type": "stream",
          "name": "stdout",
          "text": [
            "pos\t0.687\tvery\n",
            "pos\t0.660\t('.', 'It')\n",
            "pos\t0.638\tin\n",
            "pos\t0.638\tviolence\n",
            "pos\t0.637\t!\n",
            "pos\t0.628\t3\n",
            "pos\t0.603\tus\n",
            "pos\t0.598\t('.', 'This')\n",
            "pos\t0.568\t(',', 'so')\n",
            "pos\t0.566\ttop\n",
            "pos\t0.543\tback\n",
            "pos\t0.540\t(',', 'then')\n",
            "pos\t0.527\tMy\n",
            "pos\t0.516\tfriends\n",
            "pos\t0.508\tincredible\n",
            "pos\t0.482\tthought\n",
            "pos\t0.479\tdead\n",
            "pos\t0.476\tanyone\n",
            "pos\t0.465\tamazing\n",
            "pos\t0.462\tlate\n",
            "pos\t0.455\t('when', 'I')\n",
            "pos\t0.449\t('I', 'was')\n",
            "pos\t0.448\tatmosphere\n",
            "pos\t0.445\tgreat\n",
            "pos\t0.442\tdown\n",
            "\n",
            "neg\t-0.846\t?\n",
            "neg\t-0.739\tactors\n",
            "neg\t-0.724\tworst\n",
            "neg\t-0.667\tidea\n",
            "neg\t-0.652\twatching\n",
            "neg\t-0.650\tacting\n",
            "neg\t-0.611\tnegative\n",
            "neg\t-0.592\twould\n",
            "neg\t-0.588\tfar\n",
            "neg\t-0.583\t('.', '*')\n",
            "neg\t-0.576\t('the', 'worst')\n",
            "neg\t-0.550\t('to', 'watch')\n",
            "neg\t-0.546\t('.', 'There')\n",
            "neg\t-0.543\tnothing\n",
            "neg\t-0.540\tme\n",
            "neg\t-0.524\tcould\n",
            "neg\t-0.520\t('film', 'was')\n",
            "neg\t-0.517\tthere\n",
            "neg\t-0.509\t(',', 'I')\n",
            "neg\t-0.495\t('they', 'were')\n",
            "neg\t-0.492\tboring\n",
            "neg\t-0.491\t('film', \"'s\")\n",
            "neg\t-0.489\tput\n",
            "neg\t-0.489\tname\n",
            "neg\t-0.488\tfunny\n",
            "\n"
          ]
        }
      ],
      "source": [
        "big_classifier.printWeights(n=25)"
      ]
    },
    {
      "cell_type": "markdown",
      "metadata": {
        "id": "e80DUsSXu7h9"
      },
      "source": [
        "3. Next, let's look at the individual data points that are the hardest to classify correctly. Does it suggest any features you might create to disentangle them?"
      ]
    },
    {
      "cell_type": "code",
      "execution_count": 111,
      "metadata": {
        "id": "I4uTzwV99pqe"
      },
      "outputs": [],
      "source": [
        "def analyze(classifier):\n",
        "    \n",
        "    probs=classifier.log_reg.predict_proba(classifier.devX)\n",
        "    predicts=classifier.log_reg.predict(classifier.devX)\n",
        "\n",
        "    classes={}\n",
        "    for idx, lab in enumerate(classifier.log_reg.classes_):\n",
        "        classes[lab]=idx\n",
        "\n",
        "    mistakes={}\n",
        "    for i in range(len(probs)):\n",
        "        if predicts[i] != classifier.devY[i]:\n",
        "            predicted_lab_idx=classes[predicts[i]]\n",
        "            mistakes[i]=probs[i][predicted_lab_idx]\n",
        "\n",
        "    frame=[]\n",
        "    sorted_x = sorted(mistakes.items(), key=operator.itemgetter(1), reverse=True)\n",
        "    for k, v in sorted_x:\n",
        "        idd=classifier.devOrig[k][0]\n",
        "        text=classifier.devOrig[k][2]\n",
        "        frame.append([idd, v, classifier.devY[k], predicts[k], text])\n",
        "\n",
        "    df=pd.DataFrame(frame, columns=[\"id\", \"P(predicted class confidence)\", \"Human label\", \"Prediction\", \"Text\"])\n",
        "\n",
        "    with option_context('display.max_colwidth', 400):\n",
        "        display(df.head(n=20))\n"
      ]
    },
    {
      "cell_type": "code",
      "execution_count": 112,
      "metadata": {
        "id": "UXmRhSuzxaJi",
        "colab": {
          "base_uri": "https://localhost:8080/",
          "height": 1000
        },
        "outputId": "9dc988b8-14a9-4c74-d359-d6f1008be741"
      },
      "outputs": [
        {
          "output_type": "display_data",
          "data": {
            "text/plain": [
              "      id  P(predicted class confidence) Human label Prediction  \\\n",
              "0   1004                       0.999955         neg        pos   \n",
              "1   1436                       0.999732         pos        neg   \n",
              "2   1110                       0.999721         neg        pos   \n",
              "3   1959                       0.999402         pos        neg   \n",
              "4   1075                       0.999199         neg        pos   \n",
              "5   1896                       0.999139         neg        pos   \n",
              "6   1206                       0.999111         neg        pos   \n",
              "7   1659                       0.998835         pos        neg   \n",
              "8   1320                       0.998798         neg        pos   \n",
              "9   1608                       0.998704         neg        pos   \n",
              "10  1929                       0.998232         neg        pos   \n",
              "11  1784                       0.998027         pos        neg   \n",
              "12  1456                       0.997949         pos        neg   \n",
              "13  1825                       0.997753         pos        neg   \n",
              "14  1822                       0.997366         pos        neg   \n",
              "15  1551                       0.997316         neg        pos   \n",
              "16  1710                       0.996267         neg        pos   \n",
              "17  1735                       0.995948         pos        neg   \n",
              "18  1247                       0.995871         neg        pos   \n",
              "19  1787                       0.995862         pos        neg   \n",
              "\n",
              "                                                                                                                                                                                                                                                                                                                                                                                                               Text  \n",
              "0   Certainly NOMAD has some of the best horse riding scenes, swordplay, and scrumptious landscape cinematography you'll likely see, but this isn't what makes a film good. It helps but the story has to shine through on top of these things. And that's where Nomad wanders.The story is stilted, giving it a sense that it was thrown together simply to make a \"cool\" movie that \"looks\" great. Not to ment...  \n",
              "1   I have never seen such a movie before. I was on the edge of my seat and constantly laughing throughout the entire movie. I never thought such horrible acting existed it was all just too funny. The story behind the movie is decent but the movies scenes fail to portray them. I have never seen such a stupid movie in my life which is why it I think its worth watching. I give this movie 10 out of 1...  \n",
              "2   Before Stan Laurel became the smaller half of the all-time greatest comedy team, he laboured under contract to Broncho Billy Anderson in a series of cheapies, many of which were parodies of major Hollywood features. Following a dispute with Anderson, Laurel continued the informal series of parodies at Joe Rock's smaller (and more indigent) production company.Most of Laurel's parody films were ...  \n",
              "3   This is one of the best episode from the second season of MOH, I think Mick Garris has a problem with women... He kill'em all, they are often the victims (Screwfly solution, Pro-life, Valerie on the stairs, I don't remember the Argento's episode in season 1, etc., obviously Imprint). I think he enjoys to watch women been burn, torture, mutilated and I don't know. Never least \"Right to die\" is ...  \n",
              "4   A still famous but decadent actor (Morgan Freeman) has not filmed for four years. When he is invited to participate in a new project, he asks the clumsy cousin of the director to drop him in a poor Latin neighborhood in Carlson to research the work of the manager of a small supermarket. He sees the gorgeous Spanish cashier Scarlet (Paz Vega) and he becomes attracted with her ability. His drive...  \n",
              "5   STAR RATING: ***** The Works **** Just Misses the Mark *** That Little Bit In Between ** Lagging Behind * The Pits In this debut effort for Nick Park's beloved man and dog, they are forced to fly to the moon when good old Wallace runs out of cheese.As well as being the shortest feature at just 22 minutes, this W/G adventure is also the earliest and it kinda shows. The plasticine animation is a...  \n",
              "6   Plot Synopsis: Hong Kong, 1966. Paul Wagner, the man who built the Victoria Tunnel, is murdered along with his wife by his associates. His twin sons, Chad & Alex, are split apart. 25 years later, Chad, a karate instructor in Los Angeles, & Alex, a smuggler living in Hong Kong, join forces to avenge their parents' murder & rightfully claim the tunnel.This is the second time that Jean-Claude Van...  \n",
              "7   Child 'Sexploitation' is one of the most serious issues facing our world today and I feared that any film on the topic would jump straight to scenes of an explicitly sexual nature in order to shock and disturb the audience. After having seen both 'Trade' and 'Holly', one film moved me to want to actually see a change in international laws. The other felt like a poor attempt at making me cry fo...  \n",
              "8   This show comes up with interesting locations as fast as the travel channel. It is billed as reality but in actuality it is pure prime time soap opera. It's tries to use exotic locales as a facade to bring people into a phony contest & then proceeds to hook viewers on the contestants soap opera style.It also borrows from an early CBS game show pioneer- Beat The Clock- by inventing situations f...  \n",
              "9   As good an advert for republicanism as you're ever likely to see,\"Mayerling\"is an everyday story of royal folk in late nineteenth century Austria.Set during one of Europe's seemingly incessant internal turmoils it concerns itself with the Emperor Franz Joseph (Mr James Mason),his rebellious son,the Crown Prince Rudolf (Mr Omar Sharif)the Empress(Miss Ava Gardner) and various mistresses,secret ...  \n",
              "10  At the name of Pinter, every knee shall bow - especially after his Nobel Literature Prize acceptance speech which did little more than regurgitate canned, by-the-numbers, sixth-form anti-Americanism. But this is even worse; not only is it a tour-de-force of talentlessness, a superb example of how to get away with coasting on your decades-old reputation, but it also represents the butchery of a...  \n",
              "11  The only complaint I have about this adaptation is that it is sexed-up. Things that were only hinted at in the novel are shown on-screen for some weird reason. Did they think the audience would be too stupid to understand if they were not shown everything out-right? Other than that, this is very good-quality. All the actors do marvelous jobs bringing their characters to life. For the shallow w...  \n",
              "12  Hardly a masterpiece. Not so well written. Beautiful cinematography i think not. This movie wasn't too terrible but it wasn't that much better than average. The main story dealing with highly immoral teens should have focused more on the forbidden romance and why this was... should have really gotten into it instead of scraping the surface with basically \"because mom says we can't.\" Some parts...  \n",
              "13  Whilst reading through the comments left for this show, I couldn't help but notice that a large percentage of the reviewers had either not actually watched any episodes of the show either all the way through or of their own free will. The thing about Kerching! is that it's a children's show, FOR CHILDREN so obviously if your older it is going to seem cheesy, forced, and probably stupid. I even...  \n",
              "14  Zombi 3 has an interesting history in it's making. Firstly, it is a sequel to Fulci's hit Zombi 2, with Zombi 2 itself being of course a marketing ploy to trick people into thinking it was a sequel to George A. Romero's Dawn of the Dead aka Zombi. Confusing enough? Basically, none of the films have anything to do with one another, but who cares when they make money. I guess Fulci himself start...  \n",
              "15  I firmly believe that the best Oscar ceremony in recent years was in 2003 for two reasons: 1 ) Host Steve Martin was at his most wittiest: \" I saw the teamsters help Michael Moore into the trunk of his limo \" and \" I'll better not mention the gay mafia in case I wake up with a poodle's head in my bed \" 2 ) Surprise winners: No one had Adrien Brody down for best actor ( Genuine applause ) or Ro...  \n",
              "16  I think Phillip Kaufman read the cliff's Notes version of the Kundera novel and then set about making this film. Okay, of course it won't have the punch of the original. Kundera's novels are great because of his manipulation of the narrative concept, his ability to step in and out of stories he constructs. This film does not even try! The one dream sequence of Tereza's, so vital to the atmosph...  \n",
              "17  That is no criticism of the film, but rather a comment on how blind we are to our own past. I recently watched Winter Soldier, and The Ground Truth was like watching a remake or sequel-- except it was about Iraq rather than Vietnam. Similar to Winter Soldier because of it's one-sided message, both films illustrate how gleefully we rush to engage in conflicts based on false pretenses, and allow...  \n",
              "18  Let's start by the simple lines. From the viewer's side, there a couple of good \"director details\", some points of view at the movie scenes that are nice. The special effects are good enough, a good acting/good scenery also. But the story is way too simple. It shows how a elite Army bomb squad unit lives, acts and sometimes dies. It shows the drama of living in war. In my movie experience as a...  \n",
              "19  My roommate had bought this documentary and invited me to watch it with her. She's from China and only heard so much about 9/11 and wanted to know the cold hard truth and she wanted me to tell her more after the documentary. I felt awful watching this documentary, it was like reliving the nightmare and it still brings tears to my eyes.But I'm extremely grateful that I watched this documentary,...  "
            ],
            "text/html": [
              "\n",
              "  <div id=\"df-942c3da1-884e-4707-aea1-d6d7f4355ff8\">\n",
              "    <div class=\"colab-df-container\">\n",
              "      <div>\n",
              "<style scoped>\n",
              "    .dataframe tbody tr th:only-of-type {\n",
              "        vertical-align: middle;\n",
              "    }\n",
              "\n",
              "    .dataframe tbody tr th {\n",
              "        vertical-align: top;\n",
              "    }\n",
              "\n",
              "    .dataframe thead th {\n",
              "        text-align: right;\n",
              "    }\n",
              "</style>\n",
              "<table border=\"1\" class=\"dataframe\">\n",
              "  <thead>\n",
              "    <tr style=\"text-align: right;\">\n",
              "      <th></th>\n",
              "      <th>id</th>\n",
              "      <th>P(predicted class confidence)</th>\n",
              "      <th>Human label</th>\n",
              "      <th>Prediction</th>\n",
              "      <th>Text</th>\n",
              "    </tr>\n",
              "  </thead>\n",
              "  <tbody>\n",
              "    <tr>\n",
              "      <th>0</th>\n",
              "      <td>1004</td>\n",
              "      <td>0.999955</td>\n",
              "      <td>neg</td>\n",
              "      <td>pos</td>\n",
              "      <td>Certainly NOMAD has some of the best horse riding scenes, swordplay, and scrumptious landscape cinematography you'll likely see, but this isn't what makes a film good. It helps but the story has to shine through on top of these things. And that's where Nomad wanders.The story is stilted, giving it a sense that it was thrown together simply to make a \"cool\" movie that \"looks\" great. Not to ment...</td>\n",
              "    </tr>\n",
              "    <tr>\n",
              "      <th>1</th>\n",
              "      <td>1436</td>\n",
              "      <td>0.999732</td>\n",
              "      <td>pos</td>\n",
              "      <td>neg</td>\n",
              "      <td>I have never seen such a movie before. I was on the edge of my seat and constantly laughing throughout the entire movie. I never thought such horrible acting existed it was all just too funny. The story behind the movie is decent but the movies scenes fail to portray them. I have never seen such a stupid movie in my life which is why it I think its worth watching. I give this movie 10 out of 1...</td>\n",
              "    </tr>\n",
              "    <tr>\n",
              "      <th>2</th>\n",
              "      <td>1110</td>\n",
              "      <td>0.999721</td>\n",
              "      <td>neg</td>\n",
              "      <td>pos</td>\n",
              "      <td>Before Stan Laurel became the smaller half of the all-time greatest comedy team, he laboured under contract to Broncho Billy Anderson in a series of cheapies, many of which were parodies of major Hollywood features. Following a dispute with Anderson, Laurel continued the informal series of parodies at Joe Rock's smaller (and more indigent) production company.Most of Laurel's parody films were ...</td>\n",
              "    </tr>\n",
              "    <tr>\n",
              "      <th>3</th>\n",
              "      <td>1959</td>\n",
              "      <td>0.999402</td>\n",
              "      <td>pos</td>\n",
              "      <td>neg</td>\n",
              "      <td>This is one of the best episode from the second season of MOH, I think Mick Garris has a problem with women... He kill'em all, they are often the victims (Screwfly solution, Pro-life, Valerie on the stairs, I don't remember the Argento's episode in season 1, etc., obviously Imprint). I think he enjoys to watch women been burn, torture, mutilated and I don't know. Never least \"Right to die\" is ...</td>\n",
              "    </tr>\n",
              "    <tr>\n",
              "      <th>4</th>\n",
              "      <td>1075</td>\n",
              "      <td>0.999199</td>\n",
              "      <td>neg</td>\n",
              "      <td>pos</td>\n",
              "      <td>A still famous but decadent actor (Morgan Freeman) has not filmed for four years. When he is invited to participate in a new project, he asks the clumsy cousin of the director to drop him in a poor Latin neighborhood in Carlson to research the work of the manager of a small supermarket. He sees the gorgeous Spanish cashier Scarlet (Paz Vega) and he becomes attracted with her ability. His drive...</td>\n",
              "    </tr>\n",
              "    <tr>\n",
              "      <th>5</th>\n",
              "      <td>1896</td>\n",
              "      <td>0.999139</td>\n",
              "      <td>neg</td>\n",
              "      <td>pos</td>\n",
              "      <td>STAR RATING: ***** The Works **** Just Misses the Mark *** That Little Bit In Between ** Lagging Behind * The Pits In this debut effort for Nick Park's beloved man and dog, they are forced to fly to the moon when good old Wallace runs out of cheese.As well as being the shortest feature at just 22 minutes, this W/G adventure is also the earliest and it kinda shows. The plasticine animation is a...</td>\n",
              "    </tr>\n",
              "    <tr>\n",
              "      <th>6</th>\n",
              "      <td>1206</td>\n",
              "      <td>0.999111</td>\n",
              "      <td>neg</td>\n",
              "      <td>pos</td>\n",
              "      <td>Plot Synopsis: Hong Kong, 1966. Paul Wagner, the man who built the Victoria Tunnel, is murdered along with his wife by his associates. His twin sons, Chad &amp; Alex, are split apart. 25 years later, Chad, a karate instructor in Los Angeles, &amp; Alex, a smuggler living in Hong Kong, join forces to avenge their parents' murder &amp; rightfully claim the tunnel.This is the second time that Jean-Claude Van...</td>\n",
              "    </tr>\n",
              "    <tr>\n",
              "      <th>7</th>\n",
              "      <td>1659</td>\n",
              "      <td>0.998835</td>\n",
              "      <td>pos</td>\n",
              "      <td>neg</td>\n",
              "      <td>Child 'Sexploitation' is one of the most serious issues facing our world today and I feared that any film on the topic would jump straight to scenes of an explicitly sexual nature in order to shock and disturb the audience. After having seen both 'Trade' and 'Holly', one film moved me to want to actually see a change in international laws. The other felt like a poor attempt at making me cry fo...</td>\n",
              "    </tr>\n",
              "    <tr>\n",
              "      <th>8</th>\n",
              "      <td>1320</td>\n",
              "      <td>0.998798</td>\n",
              "      <td>neg</td>\n",
              "      <td>pos</td>\n",
              "      <td>This show comes up with interesting locations as fast as the travel channel. It is billed as reality but in actuality it is pure prime time soap opera. It's tries to use exotic locales as a facade to bring people into a phony contest &amp; then proceeds to hook viewers on the contestants soap opera style.It also borrows from an early CBS game show pioneer- Beat The Clock- by inventing situations f...</td>\n",
              "    </tr>\n",
              "    <tr>\n",
              "      <th>9</th>\n",
              "      <td>1608</td>\n",
              "      <td>0.998704</td>\n",
              "      <td>neg</td>\n",
              "      <td>pos</td>\n",
              "      <td>As good an advert for republicanism as you're ever likely to see,\"Mayerling\"is an everyday story of royal folk in late nineteenth century Austria.Set during one of Europe's seemingly incessant internal turmoils it concerns itself with the Emperor Franz Joseph (Mr James Mason),his rebellious son,the Crown Prince Rudolf (Mr Omar Sharif)the Empress(Miss Ava Gardner) and various mistresses,secret ...</td>\n",
              "    </tr>\n",
              "    <tr>\n",
              "      <th>10</th>\n",
              "      <td>1929</td>\n",
              "      <td>0.998232</td>\n",
              "      <td>neg</td>\n",
              "      <td>pos</td>\n",
              "      <td>At the name of Pinter, every knee shall bow - especially after his Nobel Literature Prize acceptance speech which did little more than regurgitate canned, by-the-numbers, sixth-form anti-Americanism. But this is even worse; not only is it a tour-de-force of talentlessness, a superb example of how to get away with coasting on your decades-old reputation, but it also represents the butchery of a...</td>\n",
              "    </tr>\n",
              "    <tr>\n",
              "      <th>11</th>\n",
              "      <td>1784</td>\n",
              "      <td>0.998027</td>\n",
              "      <td>pos</td>\n",
              "      <td>neg</td>\n",
              "      <td>The only complaint I have about this adaptation is that it is sexed-up. Things that were only hinted at in the novel are shown on-screen for some weird reason. Did they think the audience would be too stupid to understand if they were not shown everything out-right? Other than that, this is very good-quality. All the actors do marvelous jobs bringing their characters to life. For the shallow w...</td>\n",
              "    </tr>\n",
              "    <tr>\n",
              "      <th>12</th>\n",
              "      <td>1456</td>\n",
              "      <td>0.997949</td>\n",
              "      <td>pos</td>\n",
              "      <td>neg</td>\n",
              "      <td>Hardly a masterpiece. Not so well written. Beautiful cinematography i think not. This movie wasn't too terrible but it wasn't that much better than average. The main story dealing with highly immoral teens should have focused more on the forbidden romance and why this was... should have really gotten into it instead of scraping the surface with basically \"because mom says we can't.\" Some parts...</td>\n",
              "    </tr>\n",
              "    <tr>\n",
              "      <th>13</th>\n",
              "      <td>1825</td>\n",
              "      <td>0.997753</td>\n",
              "      <td>pos</td>\n",
              "      <td>neg</td>\n",
              "      <td>Whilst reading through the comments left for this show, I couldn't help but notice that a large percentage of the reviewers had either not actually watched any episodes of the show either all the way through or of their own free will. The thing about Kerching! is that it's a children's show, FOR CHILDREN so obviously if your older it is going to seem cheesy, forced, and probably stupid. I even...</td>\n",
              "    </tr>\n",
              "    <tr>\n",
              "      <th>14</th>\n",
              "      <td>1822</td>\n",
              "      <td>0.997366</td>\n",
              "      <td>pos</td>\n",
              "      <td>neg</td>\n",
              "      <td>Zombi 3 has an interesting history in it's making. Firstly, it is a sequel to Fulci's hit Zombi 2, with Zombi 2 itself being of course a marketing ploy to trick people into thinking it was a sequel to George A. Romero's Dawn of the Dead aka Zombi. Confusing enough? Basically, none of the films have anything to do with one another, but who cares when they make money. I guess Fulci himself start...</td>\n",
              "    </tr>\n",
              "    <tr>\n",
              "      <th>15</th>\n",
              "      <td>1551</td>\n",
              "      <td>0.997316</td>\n",
              "      <td>neg</td>\n",
              "      <td>pos</td>\n",
              "      <td>I firmly believe that the best Oscar ceremony in recent years was in 2003 for two reasons: 1 ) Host Steve Martin was at his most wittiest: \" I saw the teamsters help Michael Moore into the trunk of his limo \" and \" I'll better not mention the gay mafia in case I wake up with a poodle's head in my bed \" 2 ) Surprise winners: No one had Adrien Brody down for best actor ( Genuine applause ) or Ro...</td>\n",
              "    </tr>\n",
              "    <tr>\n",
              "      <th>16</th>\n",
              "      <td>1710</td>\n",
              "      <td>0.996267</td>\n",
              "      <td>neg</td>\n",
              "      <td>pos</td>\n",
              "      <td>I think Phillip Kaufman read the cliff's Notes version of the Kundera novel and then set about making this film. Okay, of course it won't have the punch of the original. Kundera's novels are great because of his manipulation of the narrative concept, his ability to step in and out of stories he constructs. This film does not even try! The one dream sequence of Tereza's, so vital to the atmosph...</td>\n",
              "    </tr>\n",
              "    <tr>\n",
              "      <th>17</th>\n",
              "      <td>1735</td>\n",
              "      <td>0.995948</td>\n",
              "      <td>pos</td>\n",
              "      <td>neg</td>\n",
              "      <td>That is no criticism of the film, but rather a comment on how blind we are to our own past. I recently watched Winter Soldier, and The Ground Truth was like watching a remake or sequel-- except it was about Iraq rather than Vietnam. Similar to Winter Soldier because of it's one-sided message, both films illustrate how gleefully we rush to engage in conflicts based on false pretenses, and allow...</td>\n",
              "    </tr>\n",
              "    <tr>\n",
              "      <th>18</th>\n",
              "      <td>1247</td>\n",
              "      <td>0.995871</td>\n",
              "      <td>neg</td>\n",
              "      <td>pos</td>\n",
              "      <td>Let's start by the simple lines. From the viewer's side, there a couple of good \"director details\", some points of view at the movie scenes that are nice. The special effects are good enough, a good acting/good scenery also. But the story is way too simple. It shows how a elite Army bomb squad unit lives, acts and sometimes dies. It shows the drama of living in war. In my movie experience as a...</td>\n",
              "    </tr>\n",
              "    <tr>\n",
              "      <th>19</th>\n",
              "      <td>1787</td>\n",
              "      <td>0.995862</td>\n",
              "      <td>pos</td>\n",
              "      <td>neg</td>\n",
              "      <td>My roommate had bought this documentary and invited me to watch it with her. She's from China and only heard so much about 9/11 and wanted to know the cold hard truth and she wanted me to tell her more after the documentary. I felt awful watching this documentary, it was like reliving the nightmare and it still brings tears to my eyes.But I'm extremely grateful that I watched this documentary,...</td>\n",
              "    </tr>\n",
              "  </tbody>\n",
              "</table>\n",
              "</div>\n",
              "      <button class=\"colab-df-convert\" onclick=\"convertToInteractive('df-942c3da1-884e-4707-aea1-d6d7f4355ff8')\"\n",
              "              title=\"Convert this dataframe to an interactive table.\"\n",
              "              style=\"display:none;\">\n",
              "        \n",
              "  <svg xmlns=\"http://www.w3.org/2000/svg\" height=\"24px\"viewBox=\"0 0 24 24\"\n",
              "       width=\"24px\">\n",
              "    <path d=\"M0 0h24v24H0V0z\" fill=\"none\"/>\n",
              "    <path d=\"M18.56 5.44l.94 2.06.94-2.06 2.06-.94-2.06-.94-.94-2.06-.94 2.06-2.06.94zm-11 1L8.5 8.5l.94-2.06 2.06-.94-2.06-.94L8.5 2.5l-.94 2.06-2.06.94zm10 10l.94 2.06.94-2.06 2.06-.94-2.06-.94-.94-2.06-.94 2.06-2.06.94z\"/><path d=\"M17.41 7.96l-1.37-1.37c-.4-.4-.92-.59-1.43-.59-.52 0-1.04.2-1.43.59L10.3 9.45l-7.72 7.72c-.78.78-.78 2.05 0 2.83L4 21.41c.39.39.9.59 1.41.59.51 0 1.02-.2 1.41-.59l7.78-7.78 2.81-2.81c.8-.78.8-2.07 0-2.86zM5.41 20L4 18.59l7.72-7.72 1.47 1.35L5.41 20z\"/>\n",
              "  </svg>\n",
              "      </button>\n",
              "      \n",
              "  <style>\n",
              "    .colab-df-container {\n",
              "      display:flex;\n",
              "      flex-wrap:wrap;\n",
              "      gap: 12px;\n",
              "    }\n",
              "\n",
              "    .colab-df-convert {\n",
              "      background-color: #E8F0FE;\n",
              "      border: none;\n",
              "      border-radius: 50%;\n",
              "      cursor: pointer;\n",
              "      display: none;\n",
              "      fill: #1967D2;\n",
              "      height: 32px;\n",
              "      padding: 0 0 0 0;\n",
              "      width: 32px;\n",
              "    }\n",
              "\n",
              "    .colab-df-convert:hover {\n",
              "      background-color: #E2EBFA;\n",
              "      box-shadow: 0px 1px 2px rgba(60, 64, 67, 0.3), 0px 1px 3px 1px rgba(60, 64, 67, 0.15);\n",
              "      fill: #174EA6;\n",
              "    }\n",
              "\n",
              "    [theme=dark] .colab-df-convert {\n",
              "      background-color: #3B4455;\n",
              "      fill: #D2E3FC;\n",
              "    }\n",
              "\n",
              "    [theme=dark] .colab-df-convert:hover {\n",
              "      background-color: #434B5C;\n",
              "      box-shadow: 0px 1px 3px 1px rgba(0, 0, 0, 0.15);\n",
              "      filter: drop-shadow(0px 1px 2px rgba(0, 0, 0, 0.3));\n",
              "      fill: #FFFFFF;\n",
              "    }\n",
              "  </style>\n",
              "\n",
              "      <script>\n",
              "        const buttonEl =\n",
              "          document.querySelector('#df-942c3da1-884e-4707-aea1-d6d7f4355ff8 button.colab-df-convert');\n",
              "        buttonEl.style.display =\n",
              "          google.colab.kernel.accessAllowed ? 'block' : 'none';\n",
              "\n",
              "        async function convertToInteractive(key) {\n",
              "          const element = document.querySelector('#df-942c3da1-884e-4707-aea1-d6d7f4355ff8');\n",
              "          const dataTable =\n",
              "            await google.colab.kernel.invokeFunction('convertToInteractive',\n",
              "                                                     [key], {});\n",
              "          if (!dataTable) return;\n",
              "\n",
              "          const docLinkHtml = 'Like what you see? Visit the ' +\n",
              "            '<a target=\"_blank\" href=https://colab.research.google.com/notebooks/data_table.ipynb>data table notebook</a>'\n",
              "            + ' to learn more about interactive tables.';\n",
              "          element.innerHTML = '';\n",
              "          dataTable['output_type'] = 'display_data';\n",
              "          await google.colab.output.renderOutput(dataTable, element);\n",
              "          const docLink = document.createElement('div');\n",
              "          docLink.innerHTML = docLinkHtml;\n",
              "          element.appendChild(docLink);\n",
              "        }\n",
              "      </script>\n",
              "    </div>\n",
              "  </div>\n",
              "  "
            ]
          },
          "metadata": {}
        }
      ],
      "source": [
        "analyze(big_classifier)"
      ]
    }
  ],
  "metadata": {
    "colab": {
      "provenance": []
    },
    "kernelspec": {
      "display_name": "Python 3 (ipykernel)",
      "language": "python",
      "name": "python3"
    },
    "language_info": {
      "codemirror_mode": {
        "name": "ipython",
        "version": 3
      },
      "file_extension": ".py",
      "mimetype": "text/x-python",
      "name": "python",
      "nbconvert_exporter": "python",
      "pygments_lexer": "ipython3",
      "version": "3.8.8"
    }
  },
  "nbformat": 4,
  "nbformat_minor": 0
}